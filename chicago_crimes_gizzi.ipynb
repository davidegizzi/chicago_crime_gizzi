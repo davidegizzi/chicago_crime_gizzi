{
  "nbformat": 4,
  "nbformat_minor": 0,
  "metadata": {
    "colab": {
      "name": "chicago_crimes_gizzi.ipynb",
      "private_outputs": true,
      "provenance": [],
      "collapsed_sections": [],
      "include_colab_link": true
    },
    "kernelspec": {
      "name": "python3",
      "display_name": "Python 3"
    }
  },
  "cells": [
    {
      "cell_type": "markdown",
      "metadata": {
        "id": "view-in-github",
        "colab_type": "text"
      },
      "source": [
        "<a href=\"https://colab.research.google.com/github/davidegizzi/chicago_crime_gizzi/blob/main/chicago_crimes_gizzi.ipynb\" target=\"_parent\"><img src=\"https://colab.research.google.com/assets/colab-badge.svg\" alt=\"Open In Colab\"/></a>"
      ]
    },
    {
      "cell_type": "code",
      "metadata": {
        "id": "aWyUdx0UopQK"
      },
      "source": [
        "import pandas as pd\n",
        "\n",
        "#task 1\n",
        "df = pd.io.gbq.read_gbq('''\n",
        "  select count(distinct year) as period FROM bigquery-public-data.chicago_crime.crime;\n",
        "  ''', project_id='valid-logic-332507', dialect='standard')\n",
        "df.head()\n",
        "\n",
        "#answer: the dataset covers a period of 21 years"
      ],
      "execution_count": null,
      "outputs": []
    },
    {
      "cell_type": "code",
      "metadata": {
        "id": "Uc09gW6Lmoh9"
      },
      "source": [
        "#task 2\n",
        "df = pd.io.gbq.read_gbq('''\n",
        "  select year, count(*) as crimes FROM bigquery-public-data.chicago_crime.crime\n",
        "  group by year\n",
        "  order by count(*) desc;  \n",
        "''', project_id='valid-logic-332507', dialect='standard')\n",
        "df.head(21)\n",
        "\n",
        "#answer: year 2002 had the largest number of crimes"
      ],
      "execution_count": null,
      "outputs": []
    },
    {
      "cell_type": "code",
      "metadata": {
        "id": "vZThfMrRSoAe"
      },
      "source": [
        "#task 3, question 1\n",
        "\n",
        "#I calculate the share of crimes leading to an arrest as the ratio between the number of crimes leading to an arrest for a specific year and the total number of crimes of during that year\n",
        "\n",
        "df = pd.io.gbq.read_gbq('''\n",
        "  select year, countif(arrest = 1)/count(*) as share from (\n",
        "  select year, case when arrest= True then 1 else 0 end as arrest, from bigquery-public-data.chicago_crime.crime\n",
        "  ) group by year\n",
        "  order by share desc;\n",
        "  ''', project_id='valid-logic-332507', dialect='standard')\n",
        "df.head(21)\n",
        "\n",
        "#answer: year 2005 had the largest share of crimes that led to an arrest"
      ],
      "execution_count": null,
      "outputs": []
    },
    {
      "cell_type": "code",
      "metadata": {
        "id": "L2jyw_KfjyiS"
      },
      "source": [
        "#task 3, question 2\n",
        "df = pd.io.gbq.read_gbq('''\n",
        "  select year, count(*) as crimes FROM bigquery-public-data.chicago_crime.crime\n",
        "  group by year\n",
        "  order by year desc;  \n",
        "''', project_id='valid-logic-332507', dialect='standard')\n",
        "df.head(21)\n",
        "\n",
        "#answer: except for the periods 2001-2002 and 2015-2016, for which the trend of crimes had slightly increased, the general trend is of decreasing number of crimes from 2002 until 2021."
      ],
      "execution_count": null,
      "outputs": []
    },
    {
      "cell_type": "code",
      "metadata": {
        "id": "WqZ2-T37042X"
      },
      "source": [
        "#task 4, question 1\n",
        "df = pd.io.gbq.read_gbq('''\n",
        "  select primary_type, count(primary_type) as frequency from bigquery-public-data.chicago_crime.crime\n",
        "  where year=2020\n",
        "  group by primary_type\n",
        "  order by frequency desc;\n",
        "  ''', project_id='valid-logic-332507', dialect='standard')\n",
        "df.head()\n",
        "\n",
        "#answer: the top five crimes in 2020 were battery, theft, criminal damage, assault and deceptive practice"
      ],
      "execution_count": null,
      "outputs": []
    },
    {
      "cell_type": "code",
      "metadata": {
        "id": "4DXcTk1E_lFV"
      },
      "source": [
        "#task 4, question 2\n",
        "df = pd.io.gbq.read_gbq('''\n",
        "  select primary_type, countif(arrest = 1)/count(*) as arrest_rate from (\n",
        "  select primary_type, case when arrest= True then 1 else 0 end as arrest, from bigquery-public-data.chicago_crime.crime\n",
        "  where year=2020\n",
        "  )\n",
        "  group by primary_type;\n",
        "  ''', project_id='valid-logic-332507', dialect='standard')\n",
        "df.head(33)\n",
        "\n",
        "#answer: the highest arrest rate was almost 16.6% for battery, while the lowest was about 2% for deceptive practice\n"
      ],
      "execution_count": null,
      "outputs": []
    },
    {
      "cell_type": "code",
      "metadata": {
        "id": "lSnrB3qZlBUI"
      },
      "source": [
        "#task 5\n",
        "df = pd.io.gbq.read_gbq('''\n",
        "  select year, countif(arrest = 1) as arrests_true from (\n",
        "  select year, case when arrest= True then 1 else 0 end as arrest, from bigquery-public-data.chicago_crime.crime\n",
        "  ) group by year\n",
        "  order by arrests_true desc;\n",
        "  ''', project_id='valid-logic-332507', dialect='standard')\n",
        "df.head(21)\n",
        "\n",
        "#answer: year 2004 had the largest number of crimes that led to an arrest"
      ],
      "execution_count": null,
      "outputs": []
    },
    {
      "cell_type": "code",
      "metadata": {
        "id": "7WXkL2rQDF2l"
      },
      "source": [
        "#task 6, question 1\n",
        "import matplotlib.pyplot as plt\n",
        "\n",
        "df = pd.io.gbq.read_gbq('''\n",
        "  select year, countif(arrest = 1)/count(*) as arrest_rate from (\n",
        "  select year, case when arrest= True then 1 else 0 end as arrest, from bigquery-public-data.chicago_crime.crime\n",
        "  ) group by year\n",
        "  order by year desc;\n",
        "  ''', project_id='valid-logic-332507', dialect='standard')\n",
        "\n",
        "plt.plot(df.year,df.arrest_rate,color='blue')\n",
        "plt.scatter(df.year,df.arrest_rate,color='red')\n",
        "plt.xlabel('year')\n",
        "plt.xticks(range(2001,2021,2))\n",
        "plt.ylabel(r'$\\rm{arrest\\:rate}$')\n",
        "plt.show()\n",
        "\n",
        "#answer: \n",
        "#we can identify two periods where there have been a steep decrease in the arrest rate: \n",
        "#1) between 2014 and 2016 where the arrest rate went down from 28.9% to 19.7%\n",
        "#2) between 2019 and 2021 where the arrest rate went down from 21.5% to 12%"
      ],
      "execution_count": null,
      "outputs": []
    },
    {
      "cell_type": "code",
      "metadata": {
        "id": "aX23bKuAKDde"
      },
      "source": [
        "#task 6, question 2\n",
        "import matplotlib.pyplot as plt\n",
        "import seaborn as sns\n",
        "\n",
        "df = pd.io.gbq.read_gbq('''\n",
        "  select year, primary_type, count(primary_type) as frequency, countif(arrest = true) as tot_arrests from bigquery-public-data.chicago_crime.crime\n",
        "  where year in (2014,2016,2019,2021)\n",
        "  group by year, primary_type;\n",
        "  ''', project_id='valid-logic-332507', dialect='standard')\n",
        "\n",
        "sns.barplot(x=\"primary_type\",y=\"tot_arrests\",hue=\"year\",data=df)\n",
        "plt.ylabel(r'$\\rm{total\\:arrests}$')\n",
        "plt.xticks(rotation='vertical')\n",
        "plt.xlabel('')\n",
        "plt.legend(loc='upper right')\n",
        "plt.show()\n",
        "sns.barplot(x=\"primary_type\",y=\"frequency\",hue=\"year\",data=df)\n",
        "plt.ylabel(r'$\\rm{number\\:of\\:crimes}$')\n",
        "plt.xlabel('')\n",
        "plt.xticks(rotation='vertical')\n",
        "plt.legend(loc='upper right')\n",
        "plt.show()\n",
        "\n",
        "#answer: \n",
        "#the main driver of the change is on one side the reduction of the total number of crimes when \n",
        "# moving from 2014 to 2016 (and equivalently from 2019 to 2020, see bottom panel), as well as \n",
        "# the crucial reduction of total arrests for specific types of crimes. For example,  \n",
        "# it is possible to clearly see that the number of arrests by narcotics had a sensitive decrease by a half in 2016.\n",
        "# Correspondingly, arrests by narcotics, battery and theft decreased considerably in 2021."
      ],
      "execution_count": null,
      "outputs": []
    },
    {
      "cell_type": "code",
      "metadata": {
        "id": "UrNNFyWqEV__"
      },
      "source": [
        "#task 7, question 1 \n",
        "df = pd.io.gbq.read_gbq('''\n",
        "  select year, countif(arrest = 1)/count(*) as arrest_rate from (\n",
        "  select year, case when arrest= True then 1 else 0 end as arrest, from bigquery-public-data.chicago_crime.crime\n",
        "  where primary_type= 'THEFT' and year in (2017,2018)\n",
        "  )\n",
        "  group by year;\n",
        "  ''', project_id='valid-logic-332507', dialect='standard')\n",
        "df.head()\n",
        "\n",
        "#answer:\n",
        "#the arrest rate for thefts during 2017 and 2018 was about 10.06% and 9.7% respectively. \n",
        "#Therefore, there was a decrease of about 3.43% (this answer question 2 IF QUESTION 2 refers to the decrease of arrests for thefts)."
      ],
      "execution_count": null,
      "outputs": []
    },
    {
      "cell_type": "code",
      "metadata": {
        "id": "5SagUjwHqEJi"
      },
      "source": [
        "#task 7, question 2 \n",
        "df = pd.io.gbq.read_gbq('''\n",
        "  select year, countif(arrest = 1)/count(*) as arrest_rate from (\n",
        "  select year, case when arrest= True then 1 else 0 end as arrest, from bigquery-public-data.chicago_crime.crime\n",
        "  where year in (2017,2018)\n",
        "  )\n",
        "  group by year;\n",
        "  ''', project_id='valid-logic-332507', dialect='standard')\n",
        "df.head()\n",
        "\n",
        "#answer:\n",
        "#IF the question is referring to the total (i.e., considering all crimes) arrest rate between 2017 and 2018, it did not decrease but rather increased by about 2.46%. "
      ],
      "execution_count": null,
      "outputs": []
    },
    {
      "cell_type": "code",
      "metadata": {
        "id": "htc8I5ZZa8fJ"
      },
      "source": [
        "#task 7, question 3\n",
        "import numpy as np\n",
        "from scipy.stats import ttest_ind\n",
        "import pandas as pd\n",
        "\n",
        "df = pd.io.gbq.read_gbq('''\n",
        "  select year, case when arrest= True then 1 else 0 end as arrest, from bigquery-public-data.chicago_crime.crime\n",
        "  where year in (2017,2018);\n",
        "  ''', project_id='valid-logic-332507', dialect='standard')\n",
        "\n",
        "group1= np.array(df.arrest[df.year==2017])\n",
        "group2= np.array(df.arrest[df.year==2018])\n",
        "\n",
        "#I could not complete this part of the task, since from the previous two questions I do not understand whether by 'decrease in arrest rate' you are referring to a decrease in the total arrest rate between 2017 and 2018, or to a decrease for thefts only.\n",
        "#As shown above, the decrease in the total arrest rate does not decrease between 2017 and 2018 (see also plot in task 6, question 1) "
      ],
      "execution_count": null,
      "outputs": []
    }
  ]
}