{
  "nbformat": 4,
  "nbformat_minor": 0,
  "metadata": {
    "colab": {
      "name": "Copy of Copy of Test notebook",
      "private_outputs": true,
      "provenance": [],
      "collapsed_sections": []
    },
    "kernelspec": {
      "name": "python3",
      "display_name": "Python 3"
    }
  },
  "cells": [
    {
      "cell_type": "code",
      "metadata": {
        "id": "aWyUdx0UopQK"
      },
      "source": [
        "import pandas as pd\n",
        "\n",
        "#task 1\n",
        "df = pd.io.gbq.read_gbq('''\n",
        "  select count(distinct year) as period FROM bigquery-public-data.chicago_crime.crime;\n",
        "  ''', project_id='valid-logic-332507', dialect='standard')\n",
        "df.head()\n",
        "\n",
        "#answer: the dataset covers a period of 21 years"
      ],
      "execution_count": null,
      "outputs": []
    },
    {
      "cell_type": "code",
      "metadata": {
        "id": "Uc09gW6Lmoh9"
      },
      "source": [
        "#task 2\n",
        "df = pd.io.gbq.read_gbq('''\n",
        "  select year, count(*) as crimes FROM bigquery-public-data.chicago_crime.crime\n",
        "  group by year\n",
        "  order by count(*) desc;  \n",
        "''', project_id='valid-logic-332507', dialect='standard')\n",
        "df.head(period)\n",
        "\n",
        "#answer: year 2002 had the largest number of crimes"
      ],
      "execution_count": null,
      "outputs": []
    },
    {
      "cell_type": "code",
      "metadata": {
        "id": "vZThfMrRSoAe"
      },
      "source": [
        "#task 3, question 1\n",
        "df = pd.io.gbq.read_gbq('''\n",
        "  select year, countif(arrest = 1)/count(*) as share from (\n",
        "  select year, case when arrest= True then 1 else 0 end as arrest, from bigquery-public-data.chicago_crime.crime\n",
        "  ) group by year\n",
        "  order by share desc;\n",
        "  ''', project_id='valid-logic-332507', dialect='standard')\n",
        "df.head(period)\n",
        "\n",
        "#answer: year 2005 had the largest share of crimes that led to an arrest"
      ],
      "execution_count": null,
      "outputs": []
    },
    {
      "cell_type": "code",
      "metadata": {
        "id": "L2jyw_KfjyiS"
      },
      "source": [
        "#task 3, question 2\n",
        "df = pd.io.gbq.read_gbq('''\n",
        "  select year, count(*) as crimes FROM bigquery-public-data.chicago_crime.crime\n",
        "  group by year\n",
        "  order by year desc;  \n",
        "''', project_id='valid-logic-332507', dialect='standard')\n",
        "df.head(period)\n",
        "\n",
        "#answer: except for the periods 2001-2002 and 2015-2016, for which the trend of crimes had slightly increased, the general trend is of decreasing number of crimes from 2002 until 2021."
      ],
      "execution_count": null,
      "outputs": []
    },
    {
      "cell_type": "code",
      "metadata": {
        "id": "lSnrB3qZlBUI"
      },
      "source": [
        "#task 5\n",
        "df = pd.io.gbq.read_gbq('''\n",
        "  select year, countif(arrest = 1) as arrests_true from (\n",
        "  select year, case when arrest= True then 1 else 0 end as arrest, from bigquery-public-data.chicago_crime.crime\n",
        "  ) group by year\n",
        "  order by arrests_true desc;\n",
        "  ''', project_id='valid-logic-332507', dialect='standard')\n",
        "df.head(period)\n",
        "\n",
        "#answer: year 2004 had the largest number of crimes that led to an arrest"
      ],
      "execution_count": null,
      "outputs": []
    }
  ]
}